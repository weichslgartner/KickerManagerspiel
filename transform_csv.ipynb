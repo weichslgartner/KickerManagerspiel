{
 "cells": [
  {
   "cell_type": "code",
   "execution_count": 1,
   "metadata": {},
   "outputs": [],
   "source": [
    "import pandas as pd"
   ]
  },
  {
   "cell_type": "code",
   "execution_count": 2,
   "metadata": {},
   "outputs": [],
   "source": [
    "df = pd.read_csv(\"players-se-k00012021.csv\", sep=\";\")"
   ]
  },
  {
   "cell_type": "code",
   "execution_count": 3,
   "metadata": {},
   "outputs": [
    {
     "data": {
      "text/html": [
       "<div>\n",
       "<style scoped>\n",
       "    .dataframe tbody tr th:only-of-type {\n",
       "        vertical-align: middle;\n",
       "    }\n",
       "\n",
       "    .dataframe tbody tr th {\n",
       "        vertical-align: top;\n",
       "    }\n",
       "\n",
       "    .dataframe thead th {\n",
       "        text-align: right;\n",
       "    }\n",
       "</style>\n",
       "<table border=\"1\" class=\"dataframe\">\n",
       "  <thead>\n",
       "    <tr style=\"text-align: right;\">\n",
       "      <th></th>\n",
       "      <th>ID</th>\n",
       "      <th>Vorname</th>\n",
       "      <th>Nachname</th>\n",
       "      <th>Angezeigter Name</th>\n",
       "      <th>Verein</th>\n",
       "      <th>Position</th>\n",
       "      <th>Marktwert</th>\n",
       "      <th>Punkte</th>\n",
       "      <th>Notendurchschnitt</th>\n",
       "    </tr>\n",
       "  </thead>\n",
       "  <tbody>\n",
       "    <tr>\n",
       "      <th>0</th>\n",
       "      <td>pl-k00030669</td>\n",
       "      <td>Manuel</td>\n",
       "      <td>Neuer</td>\n",
       "      <td>Neuer</td>\n",
       "      <td>Bayern München</td>\n",
       "      <td>GOALKEEPER</td>\n",
       "      <td>4500000</td>\n",
       "      <td>182</td>\n",
       "      <td>2.80</td>\n",
       "    </tr>\n",
       "    <tr>\n",
       "      <th>1</th>\n",
       "      <td>pl-k00030860</td>\n",
       "      <td>Philipp</td>\n",
       "      <td>Tschauner</td>\n",
       "      <td>Tschauner</td>\n",
       "      <td>RB Leipzig</td>\n",
       "      <td>GOALKEEPER</td>\n",
       "      <td>500000</td>\n",
       "      <td>0</td>\n",
       "      <td>0.00</td>\n",
       "    </tr>\n",
       "    <tr>\n",
       "      <th>2</th>\n",
       "      <td>pl-k00030961</td>\n",
       "      <td>Philipp</td>\n",
       "      <td>Pentke</td>\n",
       "      <td>Pentke</td>\n",
       "      <td>TSG Hoffenheim</td>\n",
       "      <td>GOALKEEPER</td>\n",
       "      <td>800000</td>\n",
       "      <td>18</td>\n",
       "      <td>2.50</td>\n",
       "    </tr>\n",
       "    <tr>\n",
       "      <th>3</th>\n",
       "      <td>pl-k00033610</td>\n",
       "      <td>Kevin-Prince</td>\n",
       "      <td>Boateng</td>\n",
       "      <td>Boateng</td>\n",
       "      <td>Hertha BSC</td>\n",
       "      <td>MIDFIELDER</td>\n",
       "      <td>2200000</td>\n",
       "      <td>0</td>\n",
       "      <td>0.00</td>\n",
       "    </tr>\n",
       "    <tr>\n",
       "      <th>4</th>\n",
       "      <td>pl-k00037056</td>\n",
       "      <td>Tobias</td>\n",
       "      <td>Sippel</td>\n",
       "      <td>Sippel</td>\n",
       "      <td>Bor. Mönchengladbach</td>\n",
       "      <td>GOALKEEPER</td>\n",
       "      <td>700000</td>\n",
       "      <td>23</td>\n",
       "      <td>2.63</td>\n",
       "    </tr>\n",
       "    <tr>\n",
       "      <th>...</th>\n",
       "      <td>...</td>\n",
       "      <td>...</td>\n",
       "      <td>...</td>\n",
       "      <td>...</td>\n",
       "      <td>...</td>\n",
       "      <td>...</td>\n",
       "      <td>...</td>\n",
       "      <td>...</td>\n",
       "      <td>...</td>\n",
       "    </tr>\n",
       "    <tr>\n",
       "      <th>520</th>\n",
       "      <td>pl-k00135221</td>\n",
       "      <td>Fabio</td>\n",
       "      <td>Blanco</td>\n",
       "      <td>Blanco</td>\n",
       "      <td>Eintracht Frankfurt</td>\n",
       "      <td>FORWARD</td>\n",
       "      <td>700000</td>\n",
       "      <td>0</td>\n",
       "      <td>0.00</td>\n",
       "    </tr>\n",
       "    <tr>\n",
       "      <th>521</th>\n",
       "      <td>pl-k00135841</td>\n",
       "      <td>Zidan</td>\n",
       "      <td>Sertdemir</td>\n",
       "      <td>Sertdemir</td>\n",
       "      <td>Bayer 04 Leverkusen</td>\n",
       "      <td>MIDFIELDER</td>\n",
       "      <td>800000</td>\n",
       "      <td>0</td>\n",
       "      <td>0.00</td>\n",
       "    </tr>\n",
       "    <tr>\n",
       "      <th>522</th>\n",
       "      <td>pl-k00136298</td>\n",
       "      <td>Bryan</td>\n",
       "      <td>Lasme</td>\n",
       "      <td>Lasme</td>\n",
       "      <td>Arminia Bielefeld</td>\n",
       "      <td>FORWARD</td>\n",
       "      <td>1500000</td>\n",
       "      <td>0</td>\n",
       "      <td>0.00</td>\n",
       "    </tr>\n",
       "    <tr>\n",
       "      <th>523</th>\n",
       "      <td>pl-k00136434</td>\n",
       "      <td>Guilherme</td>\n",
       "      <td>Ramos</td>\n",
       "      <td>Ramos</td>\n",
       "      <td>Arminia Bielefeld</td>\n",
       "      <td>DEFENDER</td>\n",
       "      <td>1000000</td>\n",
       "      <td>0</td>\n",
       "      <td>0.00</td>\n",
       "    </tr>\n",
       "    <tr>\n",
       "      <th>524</th>\n",
       "      <td>pl-k00136679</td>\n",
       "      <td>Enrique</td>\n",
       "      <td>Herrero</td>\n",
       "      <td>Herrero</td>\n",
       "      <td>Eintracht Frankfurt</td>\n",
       "      <td>FORWARD</td>\n",
       "      <td>500000</td>\n",
       "      <td>0</td>\n",
       "      <td>0.00</td>\n",
       "    </tr>\n",
       "  </tbody>\n",
       "</table>\n",
       "<p>525 rows × 9 columns</p>\n",
       "</div>"
      ],
      "text/plain": [
       "               ID       Vorname   Nachname Angezeigter Name  \\\n",
       "0    pl-k00030669        Manuel      Neuer            Neuer   \n",
       "1    pl-k00030860       Philipp  Tschauner        Tschauner   \n",
       "2    pl-k00030961       Philipp     Pentke           Pentke   \n",
       "3    pl-k00033610  Kevin-Prince    Boateng          Boateng   \n",
       "4    pl-k00037056        Tobias     Sippel           Sippel   \n",
       "..            ...           ...        ...              ...   \n",
       "520  pl-k00135221         Fabio     Blanco           Blanco   \n",
       "521  pl-k00135841         Zidan  Sertdemir        Sertdemir   \n",
       "522  pl-k00136298         Bryan      Lasme            Lasme   \n",
       "523  pl-k00136434     Guilherme      Ramos            Ramos   \n",
       "524  pl-k00136679       Enrique    Herrero          Herrero   \n",
       "\n",
       "                   Verein    Position  Marktwert  Punkte  Notendurchschnitt  \n",
       "0          Bayern München  GOALKEEPER    4500000     182               2.80  \n",
       "1              RB Leipzig  GOALKEEPER     500000       0               0.00  \n",
       "2          TSG Hoffenheim  GOALKEEPER     800000      18               2.50  \n",
       "3              Hertha BSC  MIDFIELDER    2200000       0               0.00  \n",
       "4    Bor. Mönchengladbach  GOALKEEPER     700000      23               2.63  \n",
       "..                    ...         ...        ...     ...                ...  \n",
       "520   Eintracht Frankfurt     FORWARD     700000       0               0.00  \n",
       "521   Bayer 04 Leverkusen  MIDFIELDER     800000       0               0.00  \n",
       "522     Arminia Bielefeld     FORWARD    1500000       0               0.00  \n",
       "523     Arminia Bielefeld    DEFENDER    1000000       0               0.00  \n",
       "524   Eintracht Frankfurt     FORWARD     500000       0               0.00  \n",
       "\n",
       "[525 rows x 9 columns]"
      ]
     },
     "execution_count": 3,
     "metadata": {},
     "output_type": "execute_result"
    }
   ],
   "source": [
    "df"
   ]
  },
  {
   "cell_type": "code",
   "execution_count": 4,
   "metadata": {},
   "outputs": [],
   "source": [
    "df['Position'] = df['Position'].replace({\"GOALKEEPER\" : \"TOR\", \"MIDFIELDER\" : \"MIT\", \"FORWARD\" : \"STU\" , \"DEFENDER\" : \"ABW\" } )"
   ]
  },
  {
   "cell_type": "code",
   "execution_count": 5,
   "metadata": {},
   "outputs": [
    {
     "data": {
      "text/plain": [
       "array(['TOR', 'MIT', 'ABW', 'STU'], dtype=object)"
      ]
     },
     "execution_count": 5,
     "metadata": {},
     "output_type": "execute_result"
    }
   ],
   "source": [
    "df['Position'].unique()"
   ]
  },
  {
   "cell_type": "code",
   "execution_count": 6,
   "metadata": {},
   "outputs": [],
   "source": [
    "df['Marktwert'] = df['Marktwert'] /1e6"
   ]
  },
  {
   "cell_type": "code",
   "execution_count": 7,
   "metadata": {},
   "outputs": [],
   "source": [
    "df.drop(columns=[\"ID\",\"Vorname\",\"Nachname\" ], inplace=True)"
   ]
  },
  {
   "cell_type": "code",
   "execution_count": 8,
   "metadata": {},
   "outputs": [],
   "source": [
    "df.to_csv(\"spieler_ersteliga.csv\", sep=\";\", decimal=',', header=False, index=False, encoding=\"latin1\")"
   ]
  },
  {
   "cell_type": "code",
   "execution_count": null,
   "metadata": {},
   "outputs": [],
   "source": []
  }
 ],
 "metadata": {
  "kernelspec": {
   "display_name": "Python 3",
   "language": "python",
   "name": "python3"
  },
  "language_info": {
   "codemirror_mode": {
    "name": "ipython",
    "version": 3
   },
   "file_extension": ".py",
   "mimetype": "text/x-python",
   "name": "python",
   "nbconvert_exporter": "python",
   "pygments_lexer": "ipython3",
   "version": "3.8.2"
  }
 },
 "nbformat": 4,
 "nbformat_minor": 4
}
