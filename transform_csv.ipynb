{
 "cells": [
  {
   "cell_type": "code",
   "execution_count": 1,
   "metadata": {},
   "outputs": [],
   "source": [
    "import pandas as pd"
   ]
  },
  {
   "cell_type": "code",
   "execution_count": 2,
   "metadata": {},
   "outputs": [],
   "source": [
    "df = pd.read_csv(\"players-se-k00012021.csv\", sep=\";\")"
   ]
  },
  {
   "cell_type": "code",
   "execution_count": 3,
   "metadata": {},
   "outputs": [],
   "source": [
    "df = pd.read_csv(\"/home/andreas/Downloads/players-se-k00012022.csv\", sep=\";\")"
   ]
  },
  {
   "cell_type": "code",
   "execution_count": 4,
   "metadata": {},
   "outputs": [
    {
     "data": {
      "text/html": [
       "<div>\n",
       "<style scoped>\n",
       "    .dataframe tbody tr th:only-of-type {\n",
       "        vertical-align: middle;\n",
       "    }\n",
       "\n",
       "    .dataframe tbody tr th {\n",
       "        vertical-align: top;\n",
       "    }\n",
       "\n",
       "    .dataframe thead th {\n",
       "        text-align: right;\n",
       "    }\n",
       "</style>\n",
       "<table border=\"1\" class=\"dataframe\">\n",
       "  <thead>\n",
       "    <tr style=\"text-align: right;\">\n",
       "      <th></th>\n",
       "      <th>ID</th>\n",
       "      <th>Vorname</th>\n",
       "      <th>Nachname</th>\n",
       "      <th>Angezeigter Name</th>\n",
       "      <th>Verein</th>\n",
       "      <th>Position</th>\n",
       "      <th>Marktwert</th>\n",
       "      <th>Punkte</th>\n",
       "      <th>Notendurchschnitt</th>\n",
       "    </tr>\n",
       "  </thead>\n",
       "  <tbody>\n",
       "    <tr>\n",
       "      <th>0</th>\n",
       "      <td>pl-k00030669</td>\n",
       "      <td>Manuel</td>\n",
       "      <td>Neuer</td>\n",
       "      <td>Neuer</td>\n",
       "      <td>Bayern München</td>\n",
       "      <td>GOALKEEPER</td>\n",
       "      <td>4500000</td>\n",
       "      <td>210</td>\n",
       "      <td>2.86</td>\n",
       "    </tr>\n",
       "    <tr>\n",
       "      <th>1</th>\n",
       "      <td>pl-k00030961</td>\n",
       "      <td>Philipp</td>\n",
       "      <td>Pentke</td>\n",
       "      <td>Pentke</td>\n",
       "      <td>TSG Hoffenheim</td>\n",
       "      <td>GOALKEEPER</td>\n",
       "      <td>800000</td>\n",
       "      <td>6</td>\n",
       "      <td>3.00</td>\n",
       "    </tr>\n",
       "    <tr>\n",
       "      <th>2</th>\n",
       "      <td>pl-k00030964</td>\n",
       "      <td>Michael</td>\n",
       "      <td>Langer</td>\n",
       "      <td>Langer</td>\n",
       "      <td>FC Schalke 04</td>\n",
       "      <td>GOALKEEPER</td>\n",
       "      <td>500000</td>\n",
       "      <td>0</td>\n",
       "      <td>0.00</td>\n",
       "    </tr>\n",
       "    <tr>\n",
       "      <th>3</th>\n",
       "      <td>pl-k00033610</td>\n",
       "      <td>Kevin-Prince</td>\n",
       "      <td>Boateng</td>\n",
       "      <td>Boateng</td>\n",
       "      <td>Hertha BSC</td>\n",
       "      <td>MIDFIELDER</td>\n",
       "      <td>1500000</td>\n",
       "      <td>17</td>\n",
       "      <td>4.45</td>\n",
       "    </tr>\n",
       "    <tr>\n",
       "      <th>4</th>\n",
       "      <td>pl-k00037056</td>\n",
       "      <td>Tobias</td>\n",
       "      <td>Sippel</td>\n",
       "      <td>Sippel</td>\n",
       "      <td>Bor. Mönchengladbach</td>\n",
       "      <td>GOALKEEPER</td>\n",
       "      <td>700000</td>\n",
       "      <td>2</td>\n",
       "      <td>4.00</td>\n",
       "    </tr>\n",
       "    <tr>\n",
       "      <th>...</th>\n",
       "      <td>...</td>\n",
       "      <td>...</td>\n",
       "      <td>...</td>\n",
       "      <td>...</td>\n",
       "      <td>...</td>\n",
       "      <td>...</td>\n",
       "      <td>...</td>\n",
       "      <td>...</td>\n",
       "      <td>...</td>\n",
       "    </tr>\n",
       "    <tr>\n",
       "      <th>542</th>\n",
       "      <td>pl-k00138530</td>\n",
       "      <td>Paul</td>\n",
       "      <td>Wanner</td>\n",
       "      <td>Wanner</td>\n",
       "      <td>Bayern München</td>\n",
       "      <td>MIDFIELDER</td>\n",
       "      <td>700000</td>\n",
       "      <td>8</td>\n",
       "      <td>0.00</td>\n",
       "    </tr>\n",
       "    <tr>\n",
       "      <th>543</th>\n",
       "      <td>pl-k00138699</td>\n",
       "      <td>Mathys</td>\n",
       "      <td>Tel</td>\n",
       "      <td>Tel</td>\n",
       "      <td>Bayern München</td>\n",
       "      <td>FORWARD</td>\n",
       "      <td>1800000</td>\n",
       "      <td>0</td>\n",
       "      <td>0.00</td>\n",
       "    </tr>\n",
       "    <tr>\n",
       "      <th>544</th>\n",
       "      <td>pl-k00139304</td>\n",
       "      <td>Micky</td>\n",
       "      <td>van de Ven</td>\n",
       "      <td>van de Ven</td>\n",
       "      <td>VfL Wolfsburg</td>\n",
       "      <td>DEFENDER</td>\n",
       "      <td>1200000</td>\n",
       "      <td>21</td>\n",
       "      <td>3.00</td>\n",
       "    </tr>\n",
       "    <tr>\n",
       "      <th>545</th>\n",
       "      <td>pl-k00139323</td>\n",
       "      <td>Timo</td>\n",
       "      <td>Schlieck</td>\n",
       "      <td>Schlieck</td>\n",
       "      <td>RB Leipzig</td>\n",
       "      <td>GOALKEEPER</td>\n",
       "      <td>500000</td>\n",
       "      <td>0</td>\n",
       "      <td>0.00</td>\n",
       "    </tr>\n",
       "    <tr>\n",
       "      <th>546</th>\n",
       "      <td>pl-k00140720</td>\n",
       "      <td>Mohammed</td>\n",
       "      <td>Tolba</td>\n",
       "      <td>Tolba</td>\n",
       "      <td>VfL Bochum</td>\n",
       "      <td>DEFENDER</td>\n",
       "      <td>500000</td>\n",
       "      <td>0</td>\n",
       "      <td>0.00</td>\n",
       "    </tr>\n",
       "  </tbody>\n",
       "</table>\n",
       "<p>547 rows × 9 columns</p>\n",
       "</div>"
      ],
      "text/plain": [
       "               ID       Vorname    Nachname Angezeigter Name  \\\n",
       "0    pl-k00030669        Manuel       Neuer            Neuer   \n",
       "1    pl-k00030961       Philipp      Pentke           Pentke   \n",
       "2    pl-k00030964       Michael      Langer           Langer   \n",
       "3    pl-k00033610  Kevin-Prince     Boateng          Boateng   \n",
       "4    pl-k00037056        Tobias      Sippel           Sippel   \n",
       "..            ...           ...         ...              ...   \n",
       "542  pl-k00138530          Paul      Wanner           Wanner   \n",
       "543  pl-k00138699        Mathys         Tel              Tel   \n",
       "544  pl-k00139304         Micky  van de Ven       van de Ven   \n",
       "545  pl-k00139323          Timo    Schlieck         Schlieck   \n",
       "546  pl-k00140720      Mohammed       Tolba            Tolba   \n",
       "\n",
       "                   Verein    Position  Marktwert  Punkte  Notendurchschnitt  \n",
       "0          Bayern München  GOALKEEPER    4500000     210               2.86  \n",
       "1          TSG Hoffenheim  GOALKEEPER     800000       6               3.00  \n",
       "2           FC Schalke 04  GOALKEEPER     500000       0               0.00  \n",
       "3              Hertha BSC  MIDFIELDER    1500000      17               4.45  \n",
       "4    Bor. Mönchengladbach  GOALKEEPER     700000       2               4.00  \n",
       "..                    ...         ...        ...     ...                ...  \n",
       "542        Bayern München  MIDFIELDER     700000       8               0.00  \n",
       "543        Bayern München     FORWARD    1800000       0               0.00  \n",
       "544         VfL Wolfsburg    DEFENDER    1200000      21               3.00  \n",
       "545            RB Leipzig  GOALKEEPER     500000       0               0.00  \n",
       "546            VfL Bochum    DEFENDER     500000       0               0.00  \n",
       "\n",
       "[547 rows x 9 columns]"
      ]
     },
     "execution_count": 4,
     "metadata": {},
     "output_type": "execute_result"
    }
   ],
   "source": [
    "df"
   ]
  },
  {
   "cell_type": "code",
   "execution_count": 5,
   "metadata": {},
   "outputs": [],
   "source": [
    "df['Position'] = df['Position'].replace({\"GOALKEEPER\" : \"TOR\", \"MIDFIELDER\" : \"MIT\", \"FORWARD\" : \"STU\" , \"DEFENDER\" : \"ABW\" } )"
   ]
  },
  {
   "cell_type": "code",
   "execution_count": 6,
   "metadata": {},
   "outputs": [
    {
     "data": {
      "text/plain": [
       "array(['TOR', 'MIT', 'ABW', 'STU'], dtype=object)"
      ]
     },
     "execution_count": 6,
     "metadata": {},
     "output_type": "execute_result"
    }
   ],
   "source": [
    "df['Position'].unique()"
   ]
  },
  {
   "cell_type": "code",
   "execution_count": 7,
   "metadata": {},
   "outputs": [],
   "source": [
    "df['Marktwert'] = df['Marktwert'] /1e6"
   ]
  },
  {
   "cell_type": "code",
   "execution_count": 8,
   "metadata": {},
   "outputs": [],
   "source": [
    "df.drop(columns=[\"ID\",\"Vorname\",\"Nachname\" ], inplace=True)"
   ]
  },
  {
   "cell_type": "code",
   "execution_count": 9,
   "metadata": {},
   "outputs": [],
   "source": [
    "df.to_csv(\"spieler_ersteliga.csv\", sep=\";\", decimal=',', header=False, index=False, encoding=\"latin1\")"
   ]
  },
  {
   "cell_type": "code",
   "execution_count": null,
   "metadata": {},
   "outputs": [],
   "source": []
  }
 ],
 "metadata": {
  "kernelspec": {
   "display_name": "Python [conda env:covid_dashboard]",
   "language": "python",
   "name": "conda-env-covid_dashboard-py"
  },
  "language_info": {
   "codemirror_mode": {
    "name": "ipython",
    "version": 3
   },
   "file_extension": ".py",
   "mimetype": "text/x-python",
   "name": "python",
   "nbconvert_exporter": "python",
   "pygments_lexer": "ipython3",
   "version": "3.8.13"
  }
 },
 "nbformat": 4,
 "nbformat_minor": 4
}
